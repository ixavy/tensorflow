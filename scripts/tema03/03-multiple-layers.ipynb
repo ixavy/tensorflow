{
 "cells": [
  {
   "cell_type": "markdown",
   "metadata": {},
   "source": [
    "# Trabajar con múltiples capas"
   ]
  },
  {
   "cell_type": "code",
   "execution_count": 1,
   "metadata": {},
   "outputs": [
    {
     "name": "stderr",
     "output_type": "stream",
     "text": [
      "/anaconda3/lib/python3.5/importlib/_bootstrap.py:222: RuntimeWarning: compiletime version 3.6 of module 'tensorflow.python.framework.fast_tensor_util' does not match runtime version 3.5\n",
      "  return f(*args, **kwds)\n"
     ]
    }
   ],
   "source": [
    "import tensorflow as tf\n",
    "import numpy as np\n",
    "session = tf.Session()"
   ]
  },
  {
   "cell_type": "code",
   "execution_count": 2,
   "metadata": {},
   "outputs": [
    {
     "data": {
      "text/plain": [
       "array([[[[0.90122833],\n",
       "         [0.46221915],\n",
       "         [0.69594599],\n",
       "         [0.51533402]],\n",
       "\n",
       "        [[0.9964723 ],\n",
       "         [0.63845703],\n",
       "         [0.44873744],\n",
       "         [0.95705102]],\n",
       "\n",
       "        [[0.75044379],\n",
       "         [0.14794225],\n",
       "         [0.68105061],\n",
       "         [0.27665435]],\n",
       "\n",
       "        [[0.9685354 ],\n",
       "         [0.49164261],\n",
       "         [0.98472023],\n",
       "         [0.37757609]]]])"
      ]
     },
     "execution_count": 2,
     "metadata": {},
     "output_type": "execute_result"
    }
   ],
   "source": [
    "x_shape = [1, 4, 4, 1]\n",
    "x_val = np.random.uniform(size=x_shape)\n",
    "x_val"
   ]
  },
  {
   "cell_type": "code",
   "execution_count": 3,
   "metadata": {},
   "outputs": [],
   "source": [
    "x_data = tf.placeholder(tf.float32, shape=x_shape)"
   ]
  },
  {
   "cell_type": "code",
   "execution_count": 4,
   "metadata": {},
   "outputs": [],
   "source": [
    "my_filter = tf.constant(0.25, shape = [2,2,1,1])\n",
    "my_strides = [1, 2, 2, 1]\n",
    "mov_avg_layer = tf.nn.conv2d(x_data, my_filter, my_strides, padding='SAME', name = \"Moving_Avg_Windows\")"
   ]
  },
  {
   "cell_type": "markdown",
   "metadata": {},
   "source": [
    "$$\\frac{W-F+2P}{S}+1$$\n",
    "- W: dimensión de entrada\n",
    "- F: dimensión del filtro\n",
    "- P: padding\n",
    "- S: stride"
   ]
  },
  {
   "cell_type": "code",
   "execution_count": 5,
   "metadata": {},
   "outputs": [],
   "source": [
    "def custom_layer(input_matrix):\n",
    "    input_matrix_squeezed = tf.squeeze(input_matrix)\n",
    "    A = tf.constant([[1.,2.],[3.,4]])\n",
    "    b = tf.constant(1., shape = [2,2])\n",
    "    temp1 = tf.matmul(A, input_matrix_squeezed)\n",
    "    temp2 = tf.add(temp1, b) ## Ax+b\n",
    "    return tf.sigmoid(temp2)"
   ]
  },
  {
   "cell_type": "code",
   "execution_count": 6,
   "metadata": {},
   "outputs": [],
   "source": [
    "with tf.name_scope('Custom_Layer') as scope:\n",
    "    customlayer1 = custom_layer(mov_avg_layer)"
   ]
  },
  {
   "cell_type": "code",
   "execution_count": 12,
   "metadata": {},
   "outputs": [
    {
     "name": "stdout",
     "output_type": "stream",
     "text": [
      "[[0.94925565 0.943442  ]\n",
      " [0.9963426  0.99494743]]\n"
     ]
    }
   ],
   "source": [
    "writer = tf.summary.FileWriter(\"multiple-layers\", session.graph)\n",
    "print(session.run(customlayer1, feed_dict={x_data: x_val}))\n",
    "writer.close()"
   ]
  },
  {
   "cell_type": "code",
   "execution_count": 8,
   "metadata": {},
   "outputs": [
    {
     "name": "stdout",
     "output_type": "stream",
     "text": [
      "[[[[0.7495942]\n",
      "   [0.6542671]]\n",
      "\n",
      "  [[0.589641 ]\n",
      "   [0.5800003]]]]\n"
     ]
    }
   ],
   "source": [
    "print(session.run(mov_avg_layer, feed_dict={x_data: x_val}))"
   ]
  },
  {
   "cell_type": "code",
   "execution_count": null,
   "metadata": {},
   "outputs": [],
   "source": []
  }
 ],
 "metadata": {
  "kernelspec": {
   "display_name": "Python 3",
   "language": "python",
   "name": "python3"
  },
  "language_info": {
   "codemirror_mode": {
    "name": "ipython",
    "version": 3
   },
   "file_extension": ".py",
   "mimetype": "text/x-python",
   "name": "python",
   "nbconvert_exporter": "python",
   "pygments_lexer": "ipython3",
   "version": "3.5.5"
  }
 },
 "nbformat": 4,
 "nbformat_minor": 2
}
